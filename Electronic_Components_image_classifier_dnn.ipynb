{
  "nbformat": 4,
  "nbformat_minor": 0,
  "metadata": {
    "colab": {
      "provenance": [],
      "include_colab_link": true
    },
    "kernelspec": {
      "name": "python3",
      "display_name": "Python 3"
    },
    "language_info": {
      "name": "python"
    }
  },
  "cells": [
    {
      "cell_type": "markdown",
      "metadata": {
        "id": "view-in-github",
        "colab_type": "text"
      },
      "source": [
        "<a href=\"https://colab.research.google.com/github/HammadSheharyar/Hammad_BEE12C-Automated-Electronic-Component-Identification/blob/main/Electronic_Components_image_classifier_dnn.ipynb\" target=\"_parent\"><img src=\"https://colab.research.google.com/assets/colab-badge.svg\" alt=\"Open In Colab\"/></a>"
      ]
    },
    {
      "cell_type": "markdown",
      "metadata": {
        "id": "PC2XM9ueyLhu"
      },
      "source": [
        "# Image Classification: Dense Neural Network\n",
        "\n",
        "[![Open In Colab <](https://colab.research.google.com/assets/colab-badge.svg)](https://colab.research.google.com/github/ShawnHymel/computer-vision-with-embedded-machine-learning/blob/master/1.2.3%20-%20Training%20an%20Image%20Classifier%20with%20Keras/image_classifier_dnn.ipynb)\n",
        "\n",
        "Run this notebook to train a dense neural network (DNN) on your own image dataset.\n",
        "\n",
        "Based on: https://colab.research.google.com/github/AviatorMoser/keras-mnist-tutorial/blob/master/MNIST%20in%20Keras.ipynb#scrollTo=rFFriuVPwhAm\n",
        "\n",
        "(I recommend working through the example above, as it has a lot of good descriptions on doing classification with images)\n",
        "\n",
        "Create a folder named \"dataset\" in the /content directory and upload your images there. The images should be divided into their respective classes, where each class has its own folder with the name of the class. For example:\n",
        "\n",
        "<pre>\n",
        "/content\n",
        "    |- dataset\n",
        "        |- background\n",
        "        |- capacitor\n",
        "        |- diode\n",
        "        |- led\n",
        "        |- resistor\n",
        "</pre>\n",
        "\n",
        "Author: EdgeImpulse, Inc.<br>\n",
        "Date: June 5, 2021<br>\n",
        "License: [Apache-2.0](apache.org/licenses/LICENSE-2.0)<br>"
      ]
    },
    {
      "cell_type": "code",
      "metadata": {
        "id": "jhHG2__GyJjs"
      },
      "source": [
        "import numpy as np\n",
        "import matplotlib.pyplot as plt\n",
        "import random\n",
        "import os\n",
        "import PIL\n",
        "\n",
        "from keras import utils                                   # tools for creating one-hot encoding\n",
        "from keras.models import Sequential                       # Type of model we wish to use\n",
        "from keras.layers import Dense, Dropout, Activation       # Types of layers we wish to use\n",
        "\n",
        "from skimage.transform import resize                      # Used to scale/resize image arrays\n",
        "\n",
        "from sklearn.metrics import confusion_matrix              # Used to quickly make confusion matrix"
      ],
      "execution_count": 37,
      "outputs": []
    },
    {
      "cell_type": "code",
      "source": [
        "from google.colab import drive\n",
        "drive.mount('/content/drive')"
      ],
      "metadata": {
        "colab": {
          "base_uri": "https://localhost:8080/"
        },
        "id": "g-4-ouxRyX6e",
        "outputId": "12e9dba2-b27b-439d-874b-76fe73677c54"
      },
      "execution_count": 2,
      "outputs": [
        {
          "output_type": "stream",
          "name": "stdout",
          "text": [
            "Mounted at /content/drive\n"
          ]
        }
      ]
    },
    {
      "cell_type": "code",
      "metadata": {
        "id": "wu2l_Lm0yhtJ"
      },
      "source": [
        "### Settings\n",
        "\n",
        "# Location of dataset\n",
        "DATASET_PATH = \"/content/drive/MyDrive/Electronic-Components-Data/electronic-components-bmp\"\n",
        "\n",
        "# Desired resolution of images\n",
        "TARGET_WIDTH = 28\n",
        "TARGET_HEIGHT = 28\n",
        "\n",
        "# Invert image (dark backgrounds can sometimes improve accuracy)\n",
        "INVERT = False\n",
        "\n",
        "# Set aside 20% for validation and 20% for test\n",
        "VAL_RATIO = 0.2\n",
        "TEST_RATIO = 0.2\n",
        "\n",
        "# You are welcome to change the seed to try a different validation set split\n",
        "random.seed(42)"
      ],
      "execution_count": 42,
      "outputs": []
    },
    {
      "cell_type": "code",
      "metadata": {
        "colab": {
          "base_uri": "https://localhost:8080/"
        },
        "id": "FXcJLxcv0yOT",
        "outputId": "33f47ecf-c734-4bad-d5da-d13378b72ef7"
      },
      "source": [
        "### Load images as Numpy arrays\n",
        "\n",
        "# We want to record the labels and assign a ground truth label as a number to each sample\n",
        "labels = []\n",
        "y_all = []    # Lowercase 'y' - 1D vector of the ground labels (n)\n",
        "X_all = []    # Uppercase 'X' - 3D array of all image samples (n x width x height)\n",
        "\n",
        "# Find the directories in the dataset folder (skip the Jupyter Notebook checkpoints hidden folder)\n",
        "for label in os.listdir(DATASET_PATH):\n",
        "  class_dir = os.path.join(DATASET_PATH, label)\n",
        "  if os.path.isdir(class_dir) and label != \".ipynb_checkpoints\":\n",
        "\n",
        "    # Add the name of the folder to our labels list\n",
        "    labels.append(label)\n",
        "\n",
        "    # Go through each image in the folder\n",
        "    for i, file in enumerate(os.listdir(class_dir)):\n",
        "\n",
        "      # Skip the Jupyter Notebook checkpoints folder that sometimes gets added\n",
        "      if file != \".ipynb_checkpoints\":\n",
        "\n",
        "        # Open image and convert to grayscale\n",
        "        file_path = os.path.join(class_dir, file)\n",
        "        img = PIL.Image.open(file_path).convert('L')\n",
        "\n",
        "        # Convert the image to a Numpy array, optionally invern, and append to X\n",
        "        img_array = np.asarray(img)\n",
        "        if INVERT:\n",
        "          img_array = 255 - img_array\n",
        "        X_all.append(img_array)\n",
        "\n",
        "        # Add label to the y array\n",
        "        y_all.append(label)\n",
        "\n",
        "    # Show how many images we loaded\n",
        "    print(\"Added\", str(i + 1), \"images from\", label)\n",
        "\n",
        "# Calculate total number of samples\n",
        "num_samples = len(X_all)\n",
        "\n",
        "# Sort the labels list by alphabetical order\n",
        "labels = sorted(labels)\n",
        "\n",
        "# Print out labels and number of samples\n",
        "print(labels)\n",
        "print(\"Number of samples:\", num_samples)"
      ],
      "execution_count": 60,
      "outputs": [
        {
          "output_type": "stream",
          "name": "stdout",
          "text": [
            "Added 50 images from capacitor\n",
            "Added 50 images from resistor\n",
            "Added 50 images from diode\n",
            "Added 60 images from led\n",
            "Added 50 images from background\n",
            "['background', 'capacitor', 'diode', 'led', 'resistor']\n",
            "Number of samples: 260\n"
          ]
        }
      ]
    },
    {
      "cell_type": "code",
      "source": [
        "### Convert labels to numbers\n",
        "\n",
        "# Show the labels before the conversion\n",
        "print(\"Before:\", y_all)\n",
        "\n",
        "# Convert each label to its index in the labels\n",
        "y_out = []\n",
        "for i, label in enumerate(y_all):\n",
        "  y_out.append(labels.index(label))\n",
        "y_all = y_out\n",
        "\n",
        "# Show the labels after the conversion\n",
        "print(\"After:\", y_all)"
      ],
      "metadata": {
        "colab": {
          "base_uri": "https://localhost:8080/"
        },
        "id": "kjzNxdvIiHA0",
        "outputId": "4bc8aee5-5f32-47db-fd7d-de441615f0e0"
      },
      "execution_count": 61,
      "outputs": [
        {
          "output_type": "stream",
          "name": "stdout",
          "text": [
            "Before: ['capacitor', 'capacitor', 'capacitor', 'capacitor', 'capacitor', 'capacitor', 'capacitor', 'capacitor', 'capacitor', 'capacitor', 'capacitor', 'capacitor', 'capacitor', 'capacitor', 'capacitor', 'capacitor', 'capacitor', 'capacitor', 'capacitor', 'capacitor', 'capacitor', 'capacitor', 'capacitor', 'capacitor', 'capacitor', 'capacitor', 'capacitor', 'capacitor', 'capacitor', 'capacitor', 'capacitor', 'capacitor', 'capacitor', 'capacitor', 'capacitor', 'capacitor', 'capacitor', 'capacitor', 'capacitor', 'capacitor', 'capacitor', 'capacitor', 'capacitor', 'capacitor', 'capacitor', 'capacitor', 'capacitor', 'capacitor', 'capacitor', 'capacitor', 'resistor', 'resistor', 'resistor', 'resistor', 'resistor', 'resistor', 'resistor', 'resistor', 'resistor', 'resistor', 'resistor', 'resistor', 'resistor', 'resistor', 'resistor', 'resistor', 'resistor', 'resistor', 'resistor', 'resistor', 'resistor', 'resistor', 'resistor', 'resistor', 'resistor', 'resistor', 'resistor', 'resistor', 'resistor', 'resistor', 'resistor', 'resistor', 'resistor', 'resistor', 'resistor', 'resistor', 'resistor', 'resistor', 'resistor', 'resistor', 'resistor', 'resistor', 'resistor', 'resistor', 'resistor', 'resistor', 'resistor', 'resistor', 'resistor', 'resistor', 'diode', 'diode', 'diode', 'diode', 'diode', 'diode', 'diode', 'diode', 'diode', 'diode', 'diode', 'diode', 'diode', 'diode', 'diode', 'diode', 'diode', 'diode', 'diode', 'diode', 'diode', 'diode', 'diode', 'diode', 'diode', 'diode', 'diode', 'diode', 'diode', 'diode', 'diode', 'diode', 'diode', 'diode', 'diode', 'diode', 'diode', 'diode', 'diode', 'diode', 'diode', 'diode', 'diode', 'diode', 'diode', 'diode', 'diode', 'diode', 'diode', 'diode', 'led', 'led', 'led', 'led', 'led', 'led', 'led', 'led', 'led', 'led', 'led', 'led', 'led', 'led', 'led', 'led', 'led', 'led', 'led', 'led', 'led', 'led', 'led', 'led', 'led', 'led', 'led', 'led', 'led', 'led', 'led', 'led', 'led', 'led', 'led', 'led', 'led', 'led', 'led', 'led', 'led', 'led', 'led', 'led', 'led', 'led', 'led', 'led', 'led', 'led', 'led', 'led', 'led', 'led', 'led', 'led', 'led', 'led', 'led', 'led', 'background', 'background', 'background', 'background', 'background', 'background', 'background', 'background', 'background', 'background', 'background', 'background', 'background', 'background', 'background', 'background', 'background', 'background', 'background', 'background', 'background', 'background', 'background', 'background', 'background', 'background', 'background', 'background', 'background', 'background', 'background', 'background', 'background', 'background', 'background', 'background', 'background', 'background', 'background', 'background', 'background', 'background', 'background', 'background', 'background', 'background', 'background', 'background', 'background', 'background']\n",
            "After: [1, 1, 1, 1, 1, 1, 1, 1, 1, 1, 1, 1, 1, 1, 1, 1, 1, 1, 1, 1, 1, 1, 1, 1, 1, 1, 1, 1, 1, 1, 1, 1, 1, 1, 1, 1, 1, 1, 1, 1, 1, 1, 1, 1, 1, 1, 1, 1, 1, 1, 4, 4, 4, 4, 4, 4, 4, 4, 4, 4, 4, 4, 4, 4, 4, 4, 4, 4, 4, 4, 4, 4, 4, 4, 4, 4, 4, 4, 4, 4, 4, 4, 4, 4, 4, 4, 4, 4, 4, 4, 4, 4, 4, 4, 4, 4, 4, 4, 4, 4, 2, 2, 2, 2, 2, 2, 2, 2, 2, 2, 2, 2, 2, 2, 2, 2, 2, 2, 2, 2, 2, 2, 2, 2, 2, 2, 2, 2, 2, 2, 2, 2, 2, 2, 2, 2, 2, 2, 2, 2, 2, 2, 2, 2, 2, 2, 2, 2, 2, 2, 3, 3, 3, 3, 3, 3, 3, 3, 3, 3, 3, 3, 3, 3, 3, 3, 3, 3, 3, 3, 3, 3, 3, 3, 3, 3, 3, 3, 3, 3, 3, 3, 3, 3, 3, 3, 3, 3, 3, 3, 3, 3, 3, 3, 3, 3, 3, 3, 3, 3, 3, 3, 3, 3, 3, 3, 3, 3, 3, 3, 0, 0, 0, 0, 0, 0, 0, 0, 0, 0, 0, 0, 0, 0, 0, 0, 0, 0, 0, 0, 0, 0, 0, 0, 0, 0, 0, 0, 0, 0, 0, 0, 0, 0, 0, 0, 0, 0, 0, 0, 0, 0, 0, 0, 0, 0, 0, 0, 0, 0]\n"
          ]
        }
      ]
    },
    {
      "cell_type": "code",
      "metadata": {
        "colab": {
          "base_uri": "https://localhost:8080/"
        },
        "id": "oJrS0Oz31NkI",
        "outputId": "38855857-3daa-469f-c9de-40c0c0770544"
      },
      "source": [
        "### Shuffle samples and labels together, divide into test, validation, and training sets\n",
        "\n",
        "# Shuffle samples and associated labels together\n",
        "X_y = list(zip(X_all, y_all))\n",
        "random.shuffle(X_y)\n",
        "X_all, y_all = zip(*X_y)\n",
        "\n",
        "# Calculate number of validation and test samples to put aside (round down)\n",
        "num_samples_test = int(TEST_RATIO * num_samples)\n",
        "num_samples_val = int(VAL_RATIO * num_samples)\n",
        "\n",
        "# The first `num_samples_test` samples of the shuffled list becomes the test set\n",
        "X_test = X_all[:num_samples_test]\n",
        "y_test = y_all[:num_samples_test]\n",
        "\n",
        "# The next `num_samples_val` samples of the shuffled list becomes the validation set\n",
        "X_val = X_all[num_samples_test:(num_samples_test + num_samples_val)]\n",
        "y_val = y_all[num_samples_test:(num_samples_test + num_samples_val)]\n",
        "\n",
        "# The remaining samples become the training set\n",
        "X_train = X_all[(num_samples_test + num_samples_val):]\n",
        "y_train = y_all[(num_samples_test + num_samples_val):]\n",
        "\n",
        "# Remember the number of samples in the test set\n",
        "num_samples_train = len(X_train)\n",
        "\n",
        "# Print out the number of test, validation, and training samples\n",
        "print(\"Number of test samples:\", num_samples_test)\n",
        "print(\"Number of validation samples:\", num_samples_val)\n",
        "print(\"Number of training samples:\", num_samples_train)"
      ],
      "execution_count": 62,
      "outputs": [
        {
          "output_type": "stream",
          "name": "stdout",
          "text": [
            "Number of test samples: 52\n",
            "Number of validation samples: 52\n",
            "Number of training samples: 156\n"
          ]
        }
      ]
    },
    {
      "cell_type": "code",
      "metadata": {
        "colab": {
          "base_uri": "https://localhost:8080/",
          "height": 589
        },
        "id": "6FwDtw_DazYG",
        "outputId": "351ff753-e557-4310-d4fb-52121fc03107"
      },
      "source": [
        "### View one of the training samples\n",
        "\n",
        "# Chose which sample you want to view\n",
        "idx = 100\n",
        "\n",
        "# Print out label (numbe and string) and part of the array\n",
        "print(\"Label: \" + str(y_train[idx]) + \" (\" + labels[y_train[idx]] + \")\")\n",
        "print(X_train[idx])\n",
        "\n",
        "# Display image from array\n",
        "plt.imshow(X_train[idx], cmap='gray', vmin=0, vmax=255)"
      ],
      "execution_count": 63,
      "outputs": [
        {
          "output_type": "stream",
          "name": "stdout",
          "text": [
            "Label: 4 (resistor)\n",
            "[[146 146 146 ... 152 152 152]\n",
            " [146 146 146 ... 152 152 152]\n",
            " [146 146 146 ... 151 151 151]\n",
            " ...\n",
            " [146 146 146 ... 154 157 157]\n",
            " [146 146 146 ... 157 157 157]\n",
            " [146 146 146 ... 157 157 157]]\n"
          ]
        },
        {
          "output_type": "execute_result",
          "data": {
            "text/plain": [
              "<matplotlib.image.AxesImage at 0x792959cbd720>"
            ]
          },
          "metadata": {},
          "execution_count": 63
        },
        {
          "output_type": "display_data",
          "data": {
            "text/plain": [
              "<Figure size 640x480 with 1 Axes>"
            ],
            "image/png": "[encoded data removed]"
          },
          "metadata": {}
        }
      ]
    },
    {
      "cell_type": "code",
      "metadata": {
        "id": "7eVgRZnHc6_y"
      },
      "source": [
        "### Function to resize list of images\n",
        "def resize_images(images, width, height, anti_aliasing=True):\n",
        "  \"\"\"\n",
        "  Prove a list of Numpy arrays (in images parameter) to have them all resized to desired height and\n",
        "  width. Returns the list of newly resized image arrays.\n",
        "\n",
        "  NOTE: skimage resize returns *normalized* image arrays (values between 0..1)\n",
        "  \"\"\"\n",
        "  X_out = []\n",
        "  for i, img in enumerate(images):\n",
        "    X_out.append(resize(img, (height, width), anti_aliasing=anti_aliasing))\n",
        "  return X_out"
      ],
      "execution_count": 64,
      "outputs": []
    },
    {
      "cell_type": "code",
      "metadata": {
        "id": "YNpuq5Lxa9Ck"
      },
      "source": [
        "### Scale/crop images\n",
        "\n",
        "# Resize (scale) all images in the training set\n",
        "X_train = resize_images(X_train, TARGET_WIDTH, TARGET_HEIGHT)\n",
        "\n",
        "# Resize (scale) all images in the validation set\n",
        "X_val = resize_images(X_val, TARGET_WIDTH, TARGET_HEIGHT)\n",
        "\n",
        "# Resize (scale) all images in the test set\n",
        "X_test = resize_images(X_test, TARGET_WIDTH, TARGET_HEIGHT)"
      ],
      "execution_count": 65,
      "outputs": []
    },
    {
      "cell_type": "code",
      "metadata": {
        "colab": {
          "base_uri": "https://localhost:8080/",
          "height": 551
        },
        "id": "tL9W4Pw1cVon",
        "outputId": "de94b636-3a7f-4e38-9a37-fa45c9891a9d"
      },
      "source": [
        "### View training sample again (after they all have been scaled)\n",
        "\n",
        "# Chose which sample you want to view\n",
        "idx = 100\n",
        "\n",
        "# Print out label (numbe and string) and part of the array\n",
        "print(\"Label: \" + str(y_train[idx]) + \" (\" + labels[y_train[idx]] + \")\")\n",
        "print(\"First row:\", X_train[idx][:1,:])\n",
        "\n",
        "# Display image from array (note that images have been normalized)\n",
        "plt.imshow(X_train[idx], cmap='gray', vmin=0, vmax=1)"
      ],
      "execution_count": 66,
      "outputs": [
        {
          "output_type": "stream",
          "name": "stdout",
          "text": [
            "Label: 4 (resistor)\n",
            "First row: [[0.57254902 0.57254906 0.57254919 0.57254906 0.57254991 0.57258926\n",
            "  0.57262079 0.57668466 0.58541374 0.58874271 0.59170267 0.59316073\n",
            "  0.59262749 0.5963589  0.59612938 0.59618406 0.59673843 0.59631901\n",
            "  0.5963613  0.59630687 0.59935553 0.60014923 0.59790341 0.59612089\n",
            "  0.59628674 0.59722954 0.59567951 0.5939955 ]]\n"
          ]
        },
        {
          "output_type": "execute_result",
          "data": {
            "text/plain": [
              "<matplotlib.image.AxesImage at 0x79295af9f9d0>"
            ]
          },
          "metadata": {},
          "execution_count": 66
        },
        {
          "output_type": "display_data",
          "data": {
            "text/plain": [
              "<Figure size 640x480 with 1 Axes>"
            ],
            "image/png": "[encoded data removed]"
          },
          "metadata": {}
        }
      ]
    },
    {
      "cell_type": "code",
      "metadata": {
        "colab": {
          "base_uri": "https://localhost:8080/"
        },
        "id": "E13XUha044fM",
        "outputId": "87dbf643-c34b-42af-fc25-3d16cc7da703"
      },
      "source": [
        "### Convert list of samples and labels into Numpy arrays\n",
        "\n",
        "# Training set\n",
        "X_train = np.asarray(X_train)\n",
        "y_train = np.asarray(y_train)\n",
        "\n",
        "# Validation set\n",
        "X_val = np.asarray(X_val)\n",
        "y_val = np.asarray(y_val)\n",
        "\n",
        "# Test set\n",
        "X_test = np.asarray(X_test)\n",
        "y_test = np.asarray(y_test)\n",
        "\n",
        "# Print out the new Numpy array shapes (always a good idea to check the shapes!)\n",
        "print(\"Training X:\", X_train.shape)\n",
        "print(\"Training y:\", y_train.shape)\n",
        "print(\"Validation X:\", X_val.shape)\n",
        "print(\"Validation y:\", y_val.shape)\n",
        "print(\"Test X:\", X_test.shape)\n",
        "print(\"Test y:\", y_test.shape)"
      ],
      "execution_count": 67,
      "outputs": [
        {
          "output_type": "stream",
          "name": "stdout",
          "text": [
            "Training X: (156, 28, 28)\n",
            "Training y: (156,)\n",
            "Validation X: (52, 28, 28)\n",
            "Validation y: (52,)\n",
            "Test X: (52, 28, 28)\n",
            "Test y: (52,)\n"
          ]
        }
      ]
    },
    {
      "cell_type": "code",
      "metadata": {
        "id": "Bf-p0MnJ9csm",
        "colab": {
          "base_uri": "https://localhost:8080/"
        },
        "outputId": "359783da-59c4-437d-ed54-0fbec8419e76"
      },
      "source": [
        "### Flatten each image to a 1D vector (DNN requires 1D input)\n",
        "\n",
        "# Compute length of 1D array that we will flatten each image to\n",
        "len_vector = TARGET_WIDTH * TARGET_WIDTH\n",
        "\n",
        "# Flatten matricies to vectors\n",
        "X_train = X_train.reshape(num_samples_train, len_vector)\n",
        "X_val = X_val.reshape(num_samples_val, len_vector)\n",
        "X_test = X_test.reshape(num_samples_test, len_vector)\n",
        "\n",
        "# Determine the input shape for our Keras model (must be tuple)\n",
        "input_shape = (X_train.shape[1],)\n",
        "\n",
        "# Print out shapes\n",
        "print(\"X train:\", X_train.shape)\n",
        "print(\"y train:\", y_train.shape)\n",
        "print(\"X val:\", X_val.shape)\n",
        "print(\"y val:\", y_val.shape)\n",
        "print(\"X test:\", X_test.shape)\n",
        "print(\"y test:\", y_test.shape)\n",
        "print(\"Input tensor shape:\", input_shape)"
      ],
      "execution_count": 68,
      "outputs": [
        {
          "output_type": "stream",
          "name": "stdout",
          "text": [
            "X train: (156, 784)\n",
            "y train: (156,)\n",
            "X val: (52, 784)\n",
            "y val: (52,)\n",
            "X test: (52, 784)\n",
            "y test: (52,)\n",
            "Input tensor shape: (784,)\n"
          ]
        }
      ]
    },
    {
      "cell_type": "code",
      "metadata": {
        "id": "m2D1xsis98pW",
        "colab": {
          "base_uri": "https://localhost:8080/"
        },
        "outputId": "fca0d2a7-07f0-4a7b-e42f-4bf127147fc4"
      },
      "source": [
        "### Convert labels (integers) to one-hot encoding\n",
        "\n",
        "# Get number of classes\n",
        "num_classes = len(labels)\n",
        "\n",
        "# Use Keras's np_utils to create one-hot encoding (note the capital 'Y' - 2D array)\n",
        "Y_train = utils.to_categorical(y_train, num_classes)\n",
        "Y_val = utils.to_categorical(y_val, num_classes)\n",
        "Y_test = utils.to_categorical(y_test, num_classes)\n",
        "\n",
        "# Print out shapes (capital 'Y' is our one-hot matrix!)\n",
        "print(\"Y train:\", Y_train.shape)\n",
        "print(\"Y val:\", Y_val.shape)\n",
        "print(\"Y test:\", Y_test.shape)\n",
        "\n",
        "# Print out a few examples from training set\n",
        "for i in range(10):\n",
        "  print(\"Label: \" + str(y_train[i]) + \" | One-hot:\", Y_train[i])"
      ],
      "execution_count": 69,
      "outputs": [
        {
          "output_type": "stream",
          "name": "stdout",
          "text": [
            "Y train: (156, 5)\n",
            "Y val: (52, 5)\n",
            "Y test: (52, 5)\n",
            "Label: 0 | One-hot: [1. 0. 0. 0. 0.]\n",
            "Label: 0 | One-hot: [1. 0. 0. 0. 0.]\n",
            "Label: 0 | One-hot: [1. 0. 0. 0. 0.]\n",
            "Label: 2 | One-hot: [0. 0. 1. 0. 0.]\n",
            "Label: 2 | One-hot: [0. 0. 1. 0. 0.]\n",
            "Label: 0 | One-hot: [1. 0. 0. 0. 0.]\n",
            "Label: 4 | One-hot: [0. 0. 0. 0. 1.]\n",
            "Label: 1 | One-hot: [0. 1. 0. 0. 0.]\n",
            "Label: 3 | One-hot: [0. 0. 0. 1. 0.]\n",
            "Label: 3 | One-hot: [0. 0. 0. 1. 0.]\n"
          ]
        }
      ]
    },
    {
      "cell_type": "code",
      "metadata": {
        "id": "uJK-b2ds94w4",
        "colab": {
          "base_uri": "https://localhost:8080/"
        },
        "outputId": "a553f368-a093-4876-925d-ec8566c9dbcf"
      },
      "source": [
        "### Construct Keras model\n",
        "\n",
        "# A sequential model is a linear stack of layers\n",
        "model = Sequential()\n",
        "\n",
        "# First layer: fully-connected with relu activation\n",
        "model.add(Dense(64, input_shape=input_shape))\n",
        "model.add(Activation('relu'))\n",
        "model.add(Dropout(0.25))\n",
        "\n",
        "# Second layer: fully-connected with relu activation\n",
        "model.add(Dense(64))   # Input shape is determined automatically from previous layer\n",
        "model.add(Activation('relu'))\n",
        "model.add(Dropout(0.25))\n",
        "\n",
        "# Third layer: 10 nodes, one for each class, and softmax activation\n",
        "model.add(Dense(num_classes))\n",
        "model.add(Activation('softmax'))\n",
        "\n",
        "# Configure the model's training settings\n",
        "model.compile(loss='categorical_crossentropy', optimizer='adam', metrics=['acc'])\n",
        "\n",
        "# Print out model summary\n",
        "print(model.summary())"
      ],
      "execution_count": 70,
      "outputs": [
        {
          "output_type": "stream",
          "name": "stdout",
          "text": [
            "Model: \"sequential_1\"\n",
            "_________________________________________________________________\n",
            " Layer (type)                Output Shape              Param #   \n",
            "=================================================================\n",
            " dense_3 (Dense)             (None, 64)                50240     \n",
            "                                                                 \n",
            " activation_3 (Activation)   (None, 64)                0         \n",
            "                                                                 \n",
            " dropout_2 (Dropout)         (None, 64)                0         \n",
            "                                                                 \n",
            " dense_4 (Dense)             (None, 64)                4160      \n",
            "                                                                 \n",
            " activation_4 (Activation)   (None, 64)                0         \n",
            "                                                                 \n",
            " dropout_3 (Dropout)         (None, 64)                0         \n",
            "                                                                 \n",
            " dense_5 (Dense)             (None, 5)                 325       \n",
            "                                                                 \n",
            " activation_5 (Activation)   (None, 5)                 0         \n",
            "                                                                 \n",
            "=================================================================\n",
            "Total params: 54725 (213.77 KB)\n",
            "Trainable params: 54725 (213.77 KB)\n",
            "Non-trainable params: 0 (0.00 Byte)\n",
            "_________________________________________________________________\n",
            "None\n"
          ]
        }
      ]
    },
    {
      "cell_type": "code",
      "metadata": {
        "colab": {
          "base_uri": "https://localhost:8080/"
        },
        "id": "4Rc0O_86pmwb",
        "outputId": "2113f3d3-b853-4dc9-d9b3-88054964c179"
      },
      "source": [
        "### Train the model\n",
        "history = model.fit(X_train,\n",
        "                    Y_train,\n",
        "                    batch_size=32,\n",
        "                    epochs=200,\n",
        "                    verbose=1,\n",
        "                    validation_data=(X_val, Y_val))"
      ],
      "execution_count": 71,
      "outputs": [
        {
          "output_type": "stream",
          "name": "stdout",
          "text": [
            "Epoch 1/200\n",
            "5/5 [==============================] - 1s 51ms/step - loss: 1.6951 - acc: 0.1731 - val_loss: 1.5369 - val_acc: 0.5577\n",
            "Epoch 2/200\n",
            "5/5 [==============================] - 0s 11ms/step - loss: 1.5975 - acc: 0.3077 - val_loss: 1.5237 - val_acc: 0.3654\n",
            "Epoch 3/200\n",
            "5/5 [==============================] - 0s 11ms/step - loss: 1.5490 - acc: 0.3397 - val_loss: 1.4973 - val_acc: 0.3654\n",
            "Epoch 4/200\n",
            "5/5 [==============================] - 0s 15ms/step - loss: 1.4637 - acc: 0.3846 - val_loss: 1.4390 - val_acc: 0.4423\n",
            "Epoch 5/200\n",
            "5/5 [==============================] - 0s 16ms/step - loss: 1.4359 - acc: 0.4167 - val_loss: 1.3601 - val_acc: 0.5000\n",
            "Epoch 6/200\n",
            "5/5 [==============================] - 0s 11ms/step - loss: 1.4162 - acc: 0.3974 - val_loss: 1.3155 - val_acc: 0.3846\n",
            "Epoch 7/200\n",
            "5/5 [==============================] - 0s 15ms/step - loss: 1.3614 - acc: 0.4423 - val_loss: 1.2741 - val_acc: 0.4423\n",
            "Epoch 8/200\n",
            "5/5 [==============================] - 0s 12ms/step - loss: 1.2566 - acc: 0.4936 - val_loss: 1.2167 - val_acc: 0.4615\n",
            "Epoch 9/200\n",
            "5/5 [==============================] - 0s 14ms/step - loss: 1.2145 - acc: 0.5064 - val_loss: 1.1387 - val_acc: 0.5000\n",
            "Epoch 10/200\n",
            "5/5 [==============================] - 0s 15ms/step - loss: 1.1567 - acc: 0.5513 - val_loss: 1.0683 - val_acc: 0.7308\n",
            "Epoch 11/200\n",
            "5/5 [==============================] - 0s 12ms/step - loss: 1.1107 - acc: 0.5962 - val_loss: 0.9963 - val_acc: 0.5577\n",
            "Epoch 12/200\n",
            "5/5 [==============================] - 0s 16ms/step - loss: 1.0723 - acc: 0.6026 - val_loss: 0.9462 - val_acc: 0.6923\n",
            "Epoch 13/200\n",
            "5/5 [==============================] - 0s 17ms/step - loss: 0.9956 - acc: 0.6410 - val_loss: 0.9015 - val_acc: 0.6346\n",
            "Epoch 14/200\n",
            "5/5 [==============================] - 0s 12ms/step - loss: 0.9414 - acc: 0.6282 - val_loss: 0.8319 - val_acc: 0.7500\n",
            "Epoch 15/200\n",
            "5/5 [==============================] - 0s 15ms/step - loss: 0.9327 - acc: 0.6731 - val_loss: 0.8083 - val_acc: 0.7692\n",
            "Epoch 16/200\n",
            "5/5 [==============================] - 0s 10ms/step - loss: 0.9177 - acc: 0.6474 - val_loss: 0.7770 - val_acc: 0.7500\n",
            "Epoch 17/200\n",
            "5/5 [==============================] - 0s 15ms/step - loss: 0.8515 - acc: 0.6731 - val_loss: 0.7157 - val_acc: 0.7115\n",
            "Epoch 18/200\n",
            "5/5 [==============================] - 0s 11ms/step - loss: 0.8699 - acc: 0.6346 - val_loss: 0.6923 - val_acc: 0.7885\n",
            "Epoch 19/200\n",
            "5/5 [==============================] - 0s 15ms/step - loss: 0.7692 - acc: 0.7308 - val_loss: 0.6578 - val_acc: 0.8269\n",
            "Epoch 20/200\n",
            "5/5 [==============================] - 0s 12ms/step - loss: 0.7436 - acc: 0.7244 - val_loss: 0.6328 - val_acc: 0.7885\n",
            "Epoch 21/200\n",
            "5/5 [==============================] - 0s 15ms/step - loss: 0.7453 - acc: 0.7372 - val_loss: 0.6074 - val_acc: 0.8077\n",
            "Epoch 22/200\n",
            "5/5 [==============================] - 0s 11ms/step - loss: 0.6753 - acc: 0.7756 - val_loss: 0.5740 - val_acc: 0.8269\n",
            "Epoch 23/200\n",
            "5/5 [==============================] - 0s 11ms/step - loss: 0.6782 - acc: 0.7372 - val_loss: 0.5473 - val_acc: 0.7885\n",
            "Epoch 24/200\n",
            "5/5 [==============================] - 0s 13ms/step - loss: 0.6683 - acc: 0.7821 - val_loss: 0.5512 - val_acc: 0.7885\n",
            "Epoch 25/200\n",
            "5/5 [==============================] - 0s 15ms/step - loss: 0.6168 - acc: 0.7885 - val_loss: 0.5393 - val_acc: 0.7692\n",
            "Epoch 26/200\n",
            "5/5 [==============================] - 0s 11ms/step - loss: 0.5987 - acc: 0.7885 - val_loss: 0.5170 - val_acc: 0.8462\n",
            "Epoch 27/200\n",
            "5/5 [==============================] - 0s 12ms/step - loss: 0.6199 - acc: 0.7885 - val_loss: 0.5240 - val_acc: 0.7885\n",
            "Epoch 28/200\n",
            "5/5 [==============================] - 0s 11ms/step - loss: 0.5914 - acc: 0.7564 - val_loss: 0.5065 - val_acc: 0.7885\n",
            "Epoch 29/200\n",
            "5/5 [==============================] - 0s 13ms/step - loss: 0.5635 - acc: 0.8013 - val_loss: 0.4720 - val_acc: 0.8077\n",
            "Epoch 30/200\n",
            "5/5 [==============================] - 0s 11ms/step - loss: 0.5345 - acc: 0.8141 - val_loss: 0.4824 - val_acc: 0.7885\n",
            "Epoch 31/200\n",
            "5/5 [==============================] - 0s 12ms/step - loss: 0.5113 - acc: 0.8013 - val_loss: 0.4938 - val_acc: 0.7885\n",
            "Epoch 32/200\n",
            "5/5 [==============================] - 0s 16ms/step - loss: 0.5158 - acc: 0.8141 - val_loss: 0.4710 - val_acc: 0.7885\n",
            "Epoch 33/200\n",
            "5/5 [==============================] - 0s 11ms/step - loss: 0.5048 - acc: 0.7756 - val_loss: 0.4619 - val_acc: 0.8269\n",
            "Epoch 34/200\n",
            "5/5 [==============================] - 0s 15ms/step - loss: 0.5657 - acc: 0.7692 - val_loss: 0.4325 - val_acc: 0.8077\n",
            "Epoch 35/200\n",
            "5/5 [==============================] - 0s 11ms/step - loss: 0.5118 - acc: 0.8397 - val_loss: 0.4372 - val_acc: 0.8462\n",
            "Epoch 36/200\n",
            "5/5 [==============================] - 0s 16ms/step - loss: 0.4755 - acc: 0.8205 - val_loss: 0.4455 - val_acc: 0.8269\n",
            "Epoch 37/200\n",
            "5/5 [==============================] - 0s 20ms/step - loss: 0.4675 - acc: 0.8205 - val_loss: 0.4041 - val_acc: 0.8077\n",
            "Epoch 38/200\n",
            "5/5 [==============================] - 0s 19ms/step - loss: 0.4967 - acc: 0.8205 - val_loss: 0.4139 - val_acc: 0.8077\n",
            "Epoch 39/200\n",
            "5/5 [==============================] - 0s 20ms/step - loss: 0.4968 - acc: 0.8205 - val_loss: 0.4466 - val_acc: 0.8077\n",
            "Epoch 40/200\n",
            "5/5 [==============================] - 0s 19ms/step - loss: 0.4635 - acc: 0.8526 - val_loss: 0.4184 - val_acc: 0.7885\n",
            "Epoch 41/200\n",
            "5/5 [==============================] - 0s 19ms/step - loss: 0.4907 - acc: 0.7949 - val_loss: 0.3892 - val_acc: 0.8654\n",
            "Epoch 42/200\n",
            "5/5 [==============================] - 0s 22ms/step - loss: 0.4554 - acc: 0.8397 - val_loss: 0.3925 - val_acc: 0.8846\n",
            "Epoch 43/200\n",
            "5/5 [==============================] - 0s 19ms/step - loss: 0.3252 - acc: 0.9231 - val_loss: 0.3957 - val_acc: 0.8462\n",
            "Epoch 44/200\n",
            "5/5 [==============================] - 0s 16ms/step - loss: 0.4524 - acc: 0.8397 - val_loss: 0.3948 - val_acc: 0.8462\n",
            "Epoch 45/200\n",
            "5/5 [==============================] - 0s 19ms/step - loss: 0.4220 - acc: 0.8269 - val_loss: 0.3928 - val_acc: 0.8654\n",
            "Epoch 46/200\n",
            "5/5 [==============================] - 0s 21ms/step - loss: 0.4326 - acc: 0.8269 - val_loss: 0.3790 - val_acc: 0.8269\n",
            "Epoch 47/200\n",
            "5/5 [==============================] - 0s 19ms/step - loss: 0.4092 - acc: 0.8526 - val_loss: 0.3463 - val_acc: 0.8462\n",
            "Epoch 48/200\n",
            "5/5 [==============================] - 0s 15ms/step - loss: 0.4197 - acc: 0.8333 - val_loss: 0.3331 - val_acc: 0.9038\n",
            "Epoch 49/200\n",
            "5/5 [==============================] - 0s 20ms/step - loss: 0.3737 - acc: 0.8269 - val_loss: 0.3664 - val_acc: 0.8846\n",
            "Epoch 50/200\n",
            "5/5 [==============================] - 0s 19ms/step - loss: 0.4191 - acc: 0.8462 - val_loss: 0.3612 - val_acc: 0.8269\n",
            "Epoch 51/200\n",
            "5/5 [==============================] - 0s 19ms/step - loss: 0.3658 - acc: 0.8718 - val_loss: 0.3934 - val_acc: 0.8269\n",
            "Epoch 52/200\n",
            "5/5 [==============================] - 0s 16ms/step - loss: 0.3416 - acc: 0.8782 - val_loss: 0.3353 - val_acc: 0.8654\n",
            "Epoch 53/200\n",
            "5/5 [==============================] - 0s 19ms/step - loss: 0.3330 - acc: 0.8910 - val_loss: 0.3410 - val_acc: 0.8654\n",
            "Epoch 54/200\n",
            "5/5 [==============================] - 0s 19ms/step - loss: 0.3973 - acc: 0.8269 - val_loss: 0.3399 - val_acc: 0.8462\n",
            "Epoch 55/200\n",
            "5/5 [==============================] - 0s 20ms/step - loss: 0.3188 - acc: 0.8397 - val_loss: 0.3466 - val_acc: 0.8654\n",
            "Epoch 56/200\n",
            "5/5 [==============================] - 0s 16ms/step - loss: 0.3063 - acc: 0.8846 - val_loss: 0.3219 - val_acc: 0.8654\n",
            "Epoch 57/200\n",
            "5/5 [==============================] - 0s 20ms/step - loss: 0.3991 - acc: 0.8654 - val_loss: 0.3214 - val_acc: 0.9038\n",
            "Epoch 58/200\n",
            "5/5 [==============================] - 0s 16ms/step - loss: 0.3267 - acc: 0.8974 - val_loss: 0.3293 - val_acc: 0.8846\n",
            "Epoch 59/200\n",
            "5/5 [==============================] - 0s 19ms/step - loss: 0.3418 - acc: 0.8782 - val_loss: 0.3427 - val_acc: 0.8846\n",
            "Epoch 60/200\n",
            "5/5 [==============================] - 0s 19ms/step - loss: 0.2827 - acc: 0.9103 - val_loss: 0.3128 - val_acc: 0.9038\n",
            "Epoch 61/200\n",
            "5/5 [==============================] - 0s 19ms/step - loss: 0.3046 - acc: 0.8974 - val_loss: 0.3001 - val_acc: 0.9038\n",
            "Epoch 62/200\n",
            "5/5 [==============================] - 0s 16ms/step - loss: 0.3413 - acc: 0.8718 - val_loss: 0.3084 - val_acc: 0.9038\n",
            "Epoch 63/200\n",
            "5/5 [==============================] - 0s 18ms/step - loss: 0.3167 - acc: 0.8910 - val_loss: 0.2876 - val_acc: 0.9038\n",
            "Epoch 64/200\n",
            "5/5 [==============================] - 0s 16ms/step - loss: 0.3236 - acc: 0.8782 - val_loss: 0.2934 - val_acc: 0.9038\n",
            "Epoch 65/200\n",
            "5/5 [==============================] - 0s 15ms/step - loss: 0.3359 - acc: 0.8526 - val_loss: 0.3200 - val_acc: 0.9038\n",
            "Epoch 66/200\n",
            "5/5 [==============================] - 0s 15ms/step - loss: 0.2575 - acc: 0.9423 - val_loss: 0.3581 - val_acc: 0.8462\n",
            "Epoch 67/200\n",
            "5/5 [==============================] - 0s 18ms/step - loss: 0.3437 - acc: 0.9038 - val_loss: 0.3056 - val_acc: 0.8654\n",
            "Epoch 68/200\n",
            "5/5 [==============================] - 0s 15ms/step - loss: 0.3280 - acc: 0.8654 - val_loss: 0.3017 - val_acc: 0.9231\n",
            "Epoch 69/200\n",
            "5/5 [==============================] - 0s 19ms/step - loss: 0.2948 - acc: 0.9038 - val_loss: 0.2779 - val_acc: 0.9038\n",
            "Epoch 70/200\n",
            "5/5 [==============================] - 0s 19ms/step - loss: 0.3398 - acc: 0.9103 - val_loss: 0.2709 - val_acc: 0.9038\n",
            "Epoch 71/200\n",
            "5/5 [==============================] - 0s 19ms/step - loss: 0.2285 - acc: 0.9359 - val_loss: 0.3277 - val_acc: 0.8654\n",
            "Epoch 72/200\n",
            "5/5 [==============================] - 0s 19ms/step - loss: 0.3310 - acc: 0.9038 - val_loss: 0.2811 - val_acc: 0.9038\n",
            "Epoch 73/200\n",
            "5/5 [==============================] - 0s 20ms/step - loss: 0.2061 - acc: 0.9487 - val_loss: 0.2547 - val_acc: 0.9038\n",
            "Epoch 74/200\n",
            "5/5 [==============================] - 0s 19ms/step - loss: 0.3022 - acc: 0.8846 - val_loss: 0.2819 - val_acc: 0.9231\n",
            "Epoch 75/200\n",
            "5/5 [==============================] - 0s 20ms/step - loss: 0.3268 - acc: 0.8718 - val_loss: 0.2863 - val_acc: 0.9231\n",
            "Epoch 76/200\n",
            "5/5 [==============================] - 0s 21ms/step - loss: 0.2789 - acc: 0.9295 - val_loss: 0.2954 - val_acc: 0.8654\n",
            "Epoch 77/200\n",
            "5/5 [==============================] - 0s 17ms/step - loss: 0.2277 - acc: 0.9423 - val_loss: 0.2467 - val_acc: 0.8846\n",
            "Epoch 78/200\n",
            "5/5 [==============================] - 0s 17ms/step - loss: 0.2194 - acc: 0.9295 - val_loss: 0.2780 - val_acc: 0.9231\n",
            "Epoch 79/200\n",
            "5/5 [==============================] - 0s 22ms/step - loss: 0.2843 - acc: 0.8846 - val_loss: 0.3087 - val_acc: 0.8846\n",
            "Epoch 80/200\n",
            "5/5 [==============================] - 0s 20ms/step - loss: 0.3299 - acc: 0.8782 - val_loss: 0.3062 - val_acc: 0.8846\n",
            "Epoch 81/200\n",
            "5/5 [==============================] - 0s 17ms/step - loss: 0.2962 - acc: 0.8974 - val_loss: 0.3374 - val_acc: 0.8269\n",
            "Epoch 82/200\n",
            "5/5 [==============================] - 0s 20ms/step - loss: 0.2402 - acc: 0.9231 - val_loss: 0.2509 - val_acc: 0.9038\n",
            "Epoch 83/200\n",
            "5/5 [==============================] - 0s 18ms/step - loss: 0.2780 - acc: 0.9231 - val_loss: 0.2575 - val_acc: 0.9038\n",
            "Epoch 84/200\n",
            "5/5 [==============================] - 0s 19ms/step - loss: 0.2869 - acc: 0.8974 - val_loss: 0.2704 - val_acc: 0.9231\n",
            "Epoch 85/200\n",
            "5/5 [==============================] - 0s 21ms/step - loss: 0.2503 - acc: 0.9359 - val_loss: 0.2451 - val_acc: 0.8846\n",
            "Epoch 86/200\n",
            "5/5 [==============================] - 0s 17ms/step - loss: 0.2413 - acc: 0.9167 - val_loss: 0.3586 - val_acc: 0.8462\n",
            "Epoch 87/200\n",
            "5/5 [==============================] - 0s 15ms/step - loss: 0.2791 - acc: 0.9103 - val_loss: 0.2474 - val_acc: 0.9038\n",
            "Epoch 88/200\n",
            "5/5 [==============================] - 0s 15ms/step - loss: 0.3004 - acc: 0.8782 - val_loss: 0.2323 - val_acc: 0.8846\n",
            "Epoch 89/200\n",
            "5/5 [==============================] - 0s 15ms/step - loss: 0.2378 - acc: 0.9295 - val_loss: 0.3113 - val_acc: 0.8654\n",
            "Epoch 90/200\n",
            "5/5 [==============================] - 0s 15ms/step - loss: 0.2510 - acc: 0.9231 - val_loss: 0.2487 - val_acc: 0.9231\n",
            "Epoch 91/200\n",
            "5/5 [==============================] - 0s 19ms/step - loss: 0.2447 - acc: 0.9103 - val_loss: 0.2723 - val_acc: 0.8846\n",
            "Epoch 92/200\n",
            "5/5 [==============================] - 0s 16ms/step - loss: 0.1965 - acc: 0.9359 - val_loss: 0.3122 - val_acc: 0.9038\n",
            "Epoch 93/200\n",
            "5/5 [==============================] - 0s 15ms/step - loss: 0.2627 - acc: 0.8974 - val_loss: 0.2716 - val_acc: 0.9038\n",
            "Epoch 94/200\n",
            "5/5 [==============================] - 0s 15ms/step - loss: 0.2076 - acc: 0.9295 - val_loss: 0.2585 - val_acc: 0.8654\n",
            "Epoch 95/200\n",
            "5/5 [==============================] - 0s 18ms/step - loss: 0.1812 - acc: 0.9551 - val_loss: 0.3016 - val_acc: 0.8846\n",
            "Epoch 96/200\n",
            "5/5 [==============================] - 0s 19ms/step - loss: 0.1761 - acc: 0.9359 - val_loss: 0.2279 - val_acc: 0.8846\n",
            "Epoch 97/200\n",
            "5/5 [==============================] - 0s 15ms/step - loss: 0.1917 - acc: 0.9359 - val_loss: 0.2853 - val_acc: 0.9038\n",
            "Epoch 98/200\n",
            "5/5 [==============================] - 0s 16ms/step - loss: 0.2057 - acc: 0.9423 - val_loss: 0.2467 - val_acc: 0.9231\n",
            "Epoch 99/200\n",
            "5/5 [==============================] - 0s 19ms/step - loss: 0.1905 - acc: 0.9295 - val_loss: 0.2550 - val_acc: 0.8846\n",
            "Epoch 100/200\n",
            "5/5 [==============================] - 0s 19ms/step - loss: 0.1923 - acc: 0.9487 - val_loss: 0.2565 - val_acc: 0.8846\n",
            "Epoch 101/200\n",
            "5/5 [==============================] - 0s 15ms/step - loss: 0.2401 - acc: 0.9167 - val_loss: 0.2407 - val_acc: 0.9038\n",
            "Epoch 102/200\n",
            "5/5 [==============================] - 0s 19ms/step - loss: 0.2327 - acc: 0.9295 - val_loss: 0.2281 - val_acc: 0.8654\n",
            "Epoch 103/200\n",
            "5/5 [==============================] - 0s 17ms/step - loss: 0.2116 - acc: 0.9359 - val_loss: 0.3094 - val_acc: 0.8846\n",
            "Epoch 104/200\n",
            "5/5 [==============================] - 0s 21ms/step - loss: 0.1998 - acc: 0.9231 - val_loss: 0.3191 - val_acc: 0.8846\n",
            "Epoch 105/200\n",
            "5/5 [==============================] - 0s 17ms/step - loss: 0.1963 - acc: 0.9359 - val_loss: 0.2474 - val_acc: 0.8654\n",
            "Epoch 106/200\n",
            "5/5 [==============================] - 0s 18ms/step - loss: 0.1970 - acc: 0.9231 - val_loss: 0.2937 - val_acc: 0.8846\n",
            "Epoch 107/200\n",
            "5/5 [==============================] - 0s 15ms/step - loss: 0.1981 - acc: 0.9359 - val_loss: 0.3189 - val_acc: 0.9038\n",
            "Epoch 108/200\n",
            "5/5 [==============================] - 0s 18ms/step - loss: 0.2123 - acc: 0.9423 - val_loss: 0.1995 - val_acc: 0.9038\n",
            "Epoch 109/200\n",
            "5/5 [==============================] - 0s 19ms/step - loss: 0.2249 - acc: 0.9359 - val_loss: 0.2829 - val_acc: 0.9038\n",
            "Epoch 110/200\n",
            "5/5 [==============================] - 0s 16ms/step - loss: 0.1816 - acc: 0.9295 - val_loss: 0.2432 - val_acc: 0.8846\n",
            "Epoch 111/200\n",
            "5/5 [==============================] - 0s 20ms/step - loss: 0.1709 - acc: 0.9551 - val_loss: 0.2203 - val_acc: 0.9231\n",
            "Epoch 112/200\n",
            "5/5 [==============================] - 0s 22ms/step - loss: 0.1878 - acc: 0.9487 - val_loss: 0.2808 - val_acc: 0.8846\n",
            "Epoch 113/200\n",
            "5/5 [==============================] - 0s 19ms/step - loss: 0.1681 - acc: 0.9487 - val_loss: 0.2534 - val_acc: 0.8462\n",
            "Epoch 114/200\n",
            "5/5 [==============================] - 0s 16ms/step - loss: 0.2323 - acc: 0.9359 - val_loss: 0.2277 - val_acc: 0.9231\n",
            "Epoch 115/200\n",
            "5/5 [==============================] - 0s 19ms/step - loss: 0.1795 - acc: 0.9487 - val_loss: 0.2161 - val_acc: 0.9231\n",
            "Epoch 116/200\n",
            "5/5 [==============================] - 0s 24ms/step - loss: 0.2052 - acc: 0.9167 - val_loss: 0.2790 - val_acc: 0.8846\n",
            "Epoch 117/200\n",
            "5/5 [==============================] - 0s 17ms/step - loss: 0.1727 - acc: 0.9231 - val_loss: 0.2348 - val_acc: 0.8846\n",
            "Epoch 118/200\n",
            "5/5 [==============================] - 0s 19ms/step - loss: 0.1741 - acc: 0.9679 - val_loss: 0.2504 - val_acc: 0.9038\n",
            "Epoch 119/200\n",
            "5/5 [==============================] - 0s 19ms/step - loss: 0.2208 - acc: 0.9487 - val_loss: 0.2284 - val_acc: 0.9231\n",
            "Epoch 120/200\n",
            "5/5 [==============================] - 0s 19ms/step - loss: 0.1562 - acc: 0.9551 - val_loss: 0.3153 - val_acc: 0.8654\n",
            "Epoch 121/200\n",
            "5/5 [==============================] - 0s 19ms/step - loss: 0.2163 - acc: 0.9103 - val_loss: 0.2765 - val_acc: 0.9231\n",
            "Epoch 122/200\n",
            "5/5 [==============================] - 0s 19ms/step - loss: 0.2170 - acc: 0.9038 - val_loss: 0.2396 - val_acc: 0.9038\n",
            "Epoch 123/200\n",
            "5/5 [==============================] - 0s 12ms/step - loss: 0.2164 - acc: 0.9295 - val_loss: 0.3456 - val_acc: 0.8654\n",
            "Epoch 124/200\n",
            "5/5 [==============================] - 0s 11ms/step - loss: 0.1707 - acc: 0.9679 - val_loss: 0.2539 - val_acc: 0.9038\n",
            "Epoch 125/200\n",
            "5/5 [==============================] - 0s 15ms/step - loss: 0.2079 - acc: 0.9167 - val_loss: 0.2109 - val_acc: 0.9231\n",
            "Epoch 126/200\n",
            "5/5 [==============================] - 0s 15ms/step - loss: 0.1304 - acc: 0.9615 - val_loss: 0.2823 - val_acc: 0.9038\n",
            "Epoch 127/200\n",
            "5/5 [==============================] - 0s 12ms/step - loss: 0.1592 - acc: 0.9551 - val_loss: 0.2930 - val_acc: 0.8846\n",
            "Epoch 128/200\n",
            "5/5 [==============================] - 0s 11ms/step - loss: 0.1638 - acc: 0.9487 - val_loss: 0.2435 - val_acc: 0.8846\n",
            "Epoch 129/200\n",
            "5/5 [==============================] - 0s 15ms/step - loss: 0.1452 - acc: 0.9487 - val_loss: 0.3722 - val_acc: 0.8462\n",
            "Epoch 130/200\n",
            "5/5 [==============================] - 0s 15ms/step - loss: 0.1532 - acc: 0.9679 - val_loss: 0.2465 - val_acc: 0.9231\n",
            "Epoch 131/200\n",
            "5/5 [==============================] - 0s 11ms/step - loss: 0.2005 - acc: 0.9423 - val_loss: 0.1955 - val_acc: 0.9231\n",
            "Epoch 132/200\n",
            "5/5 [==============================] - 0s 11ms/step - loss: 0.1454 - acc: 0.9808 - val_loss: 0.3705 - val_acc: 0.8846\n",
            "Epoch 133/200\n",
            "5/5 [==============================] - 0s 15ms/step - loss: 0.1189 - acc: 0.9615 - val_loss: 0.2220 - val_acc: 0.8846\n",
            "Epoch 134/200\n",
            "5/5 [==============================] - 0s 16ms/step - loss: 0.1611 - acc: 0.9615 - val_loss: 0.1681 - val_acc: 0.9231\n",
            "Epoch 135/200\n",
            "5/5 [==============================] - 0s 12ms/step - loss: 0.1799 - acc: 0.9487 - val_loss: 0.4087 - val_acc: 0.8269\n",
            "Epoch 136/200\n",
            "5/5 [==============================] - 0s 15ms/step - loss: 0.2177 - acc: 0.9295 - val_loss: 0.2388 - val_acc: 0.8654\n",
            "Epoch 137/200\n",
            "5/5 [==============================] - 0s 12ms/step - loss: 0.1977 - acc: 0.9167 - val_loss: 0.2459 - val_acc: 0.9038\n",
            "Epoch 138/200\n",
            "5/5 [==============================] - 0s 16ms/step - loss: 0.1711 - acc: 0.9231 - val_loss: 0.2744 - val_acc: 0.8846\n",
            "Epoch 139/200\n",
            "5/5 [==============================] - 0s 12ms/step - loss: 0.1409 - acc: 0.9615 - val_loss: 0.1914 - val_acc: 0.9038\n",
            "Epoch 140/200\n",
            "5/5 [==============================] - 0s 16ms/step - loss: 0.1418 - acc: 0.9551 - val_loss: 0.2116 - val_acc: 0.9231\n",
            "Epoch 141/200\n",
            "5/5 [==============================] - 0s 11ms/step - loss: 0.1411 - acc: 0.9487 - val_loss: 0.2426 - val_acc: 0.9038\n",
            "Epoch 142/200\n",
            "5/5 [==============================] - 0s 11ms/step - loss: 0.1676 - acc: 0.9423 - val_loss: 0.1992 - val_acc: 0.9038\n",
            "Epoch 143/200\n",
            "5/5 [==============================] - 0s 15ms/step - loss: 0.1251 - acc: 0.9359 - val_loss: 0.2103 - val_acc: 0.8654\n",
            "Epoch 144/200\n",
            "5/5 [==============================] - 0s 16ms/step - loss: 0.1330 - acc: 0.9615 - val_loss: 0.3389 - val_acc: 0.8846\n",
            "Epoch 145/200\n",
            "5/5 [==============================] - 0s 12ms/step - loss: 0.1724 - acc: 0.9295 - val_loss: 0.2608 - val_acc: 0.9038\n",
            "Epoch 146/200\n",
            "5/5 [==============================] - 0s 15ms/step - loss: 0.0947 - acc: 0.9744 - val_loss: 0.1620 - val_acc: 0.9231\n",
            "Epoch 147/200\n",
            "5/5 [==============================] - 0s 15ms/step - loss: 0.1346 - acc: 0.9423 - val_loss: 0.2904 - val_acc: 0.8654\n",
            "Epoch 148/200\n",
            "5/5 [==============================] - 0s 12ms/step - loss: 0.1472 - acc: 0.9615 - val_loss: 0.4695 - val_acc: 0.8654\n",
            "Epoch 149/200\n",
            "5/5 [==============================] - 0s 11ms/step - loss: 0.1740 - acc: 0.9615 - val_loss: 0.2049 - val_acc: 0.9038\n",
            "Epoch 150/200\n",
            "5/5 [==============================] - 0s 11ms/step - loss: 0.1838 - acc: 0.9167 - val_loss: 0.2286 - val_acc: 0.9038\n",
            "Epoch 151/200\n",
            "5/5 [==============================] - 0s 13ms/step - loss: 0.1399 - acc: 0.9551 - val_loss: 0.3218 - val_acc: 0.8846\n",
            "Epoch 152/200\n",
            "5/5 [==============================] - 0s 16ms/step - loss: 0.1805 - acc: 0.9295 - val_loss: 0.2758 - val_acc: 0.8846\n",
            "Epoch 153/200\n",
            "5/5 [==============================] - 0s 12ms/step - loss: 0.1398 - acc: 0.9551 - val_loss: 0.3133 - val_acc: 0.8846\n",
            "Epoch 154/200\n",
            "5/5 [==============================] - 0s 11ms/step - loss: 0.1364 - acc: 0.9615 - val_loss: 0.2232 - val_acc: 0.8846\n",
            "Epoch 155/200\n",
            "5/5 [==============================] - 0s 16ms/step - loss: 0.1492 - acc: 0.9551 - val_loss: 0.1840 - val_acc: 0.9231\n",
            "Epoch 156/200\n",
            "5/5 [==============================] - 0s 16ms/step - loss: 0.1387 - acc: 0.9615 - val_loss: 0.2417 - val_acc: 0.9038\n",
            "Epoch 157/200\n",
            "5/5 [==============================] - 0s 12ms/step - loss: 0.1347 - acc: 0.9167 - val_loss: 0.2220 - val_acc: 0.8846\n",
            "Epoch 158/200\n",
            "5/5 [==============================] - 0s 12ms/step - loss: 0.0869 - acc: 0.9744 - val_loss: 0.2389 - val_acc: 0.8846\n",
            "Epoch 159/200\n",
            "5/5 [==============================] - 0s 15ms/step - loss: 0.0959 - acc: 0.9679 - val_loss: 0.2347 - val_acc: 0.8846\n",
            "Epoch 160/200\n",
            "5/5 [==============================] - 0s 15ms/step - loss: 0.1265 - acc: 0.9615 - val_loss: 0.3050 - val_acc: 0.8846\n",
            "Epoch 161/200\n",
            "5/5 [==============================] - 0s 11ms/step - loss: 0.1620 - acc: 0.9231 - val_loss: 0.2407 - val_acc: 0.8846\n",
            "Epoch 162/200\n",
            "5/5 [==============================] - 0s 12ms/step - loss: 0.1318 - acc: 0.9679 - val_loss: 0.2008 - val_acc: 0.9038\n",
            "Epoch 163/200\n",
            "5/5 [==============================] - 0s 11ms/step - loss: 0.1252 - acc: 0.9551 - val_loss: 0.2827 - val_acc: 0.8846\n",
            "Epoch 164/200\n",
            "5/5 [==============================] - 0s 16ms/step - loss: 0.0957 - acc: 0.9744 - val_loss: 0.2446 - val_acc: 0.8846\n",
            "Epoch 165/200\n",
            "5/5 [==============================] - 0s 17ms/step - loss: 0.0806 - acc: 0.9808 - val_loss: 0.2295 - val_acc: 0.8846\n",
            "Epoch 166/200\n",
            "5/5 [==============================] - 0s 15ms/step - loss: 0.1150 - acc: 0.9615 - val_loss: 0.2238 - val_acc: 0.8654\n",
            "Epoch 167/200\n",
            "5/5 [==============================] - 0s 16ms/step - loss: 0.1077 - acc: 0.9551 - val_loss: 0.2202 - val_acc: 0.8846\n",
            "Epoch 168/200\n",
            "5/5 [==============================] - 0s 11ms/step - loss: 0.1217 - acc: 0.9615 - val_loss: 0.2471 - val_acc: 0.8846\n",
            "Epoch 169/200\n",
            "5/5 [==============================] - 0s 16ms/step - loss: 0.0941 - acc: 0.9808 - val_loss: 0.2665 - val_acc: 0.8846\n",
            "Epoch 170/200\n",
            "5/5 [==============================] - 0s 12ms/step - loss: 0.1631 - acc: 0.9359 - val_loss: 0.1932 - val_acc: 0.9231\n",
            "Epoch 171/200\n",
            "5/5 [==============================] - 0s 11ms/step - loss: 0.1307 - acc: 0.9615 - val_loss: 0.2353 - val_acc: 0.9231\n",
            "Epoch 172/200\n",
            "5/5 [==============================] - 0s 15ms/step - loss: 0.1137 - acc: 0.9744 - val_loss: 0.3002 - val_acc: 0.8846\n",
            "Epoch 173/200\n",
            "5/5 [==============================] - 0s 16ms/step - loss: 0.1126 - acc: 0.9615 - val_loss: 0.2255 - val_acc: 0.8846\n",
            "Epoch 174/200\n",
            "5/5 [==============================] - 0s 15ms/step - loss: 0.1034 - acc: 0.9679 - val_loss: 0.1894 - val_acc: 0.9038\n",
            "Epoch 175/200\n",
            "5/5 [==============================] - 0s 16ms/step - loss: 0.0925 - acc: 0.9487 - val_loss: 0.3249 - val_acc: 0.8846\n",
            "Epoch 176/200\n",
            "5/5 [==============================] - 0s 15ms/step - loss: 0.0860 - acc: 0.9615 - val_loss: 0.3094 - val_acc: 0.8846\n",
            "Epoch 177/200\n",
            "5/5 [==============================] - 0s 12ms/step - loss: 0.0783 - acc: 0.9872 - val_loss: 0.2653 - val_acc: 0.8846\n",
            "Epoch 178/200\n",
            "5/5 [==============================] - 0s 12ms/step - loss: 0.1480 - acc: 0.9423 - val_loss: 0.2049 - val_acc: 0.9038\n",
            "Epoch 179/200\n",
            "5/5 [==============================] - 0s 11ms/step - loss: 0.0996 - acc: 0.9615 - val_loss: 0.2822 - val_acc: 0.9038\n",
            "Epoch 180/200\n",
            "5/5 [==============================] - 0s 12ms/step - loss: 0.0855 - acc: 0.9808 - val_loss: 0.2826 - val_acc: 0.8846\n",
            "Epoch 181/200\n",
            "5/5 [==============================] - 0s 12ms/step - loss: 0.1198 - acc: 0.9744 - val_loss: 0.2150 - val_acc: 0.8846\n",
            "Epoch 182/200\n",
            "5/5 [==============================] - 0s 12ms/step - loss: 0.1088 - acc: 0.9744 - val_loss: 0.2056 - val_acc: 0.9231\n",
            "Epoch 183/200\n",
            "5/5 [==============================] - 0s 16ms/step - loss: 0.0721 - acc: 0.9744 - val_loss: 0.3135 - val_acc: 0.9038\n",
            "Epoch 184/200\n",
            "5/5 [==============================] - 0s 12ms/step - loss: 0.0911 - acc: 0.9744 - val_loss: 0.2928 - val_acc: 0.8846\n",
            "Epoch 185/200\n",
            "5/5 [==============================] - 0s 15ms/step - loss: 0.0642 - acc: 0.9808 - val_loss: 0.2476 - val_acc: 0.9231\n",
            "Epoch 186/200\n",
            "5/5 [==============================] - 0s 11ms/step - loss: 0.0963 - acc: 0.9615 - val_loss: 0.2670 - val_acc: 0.9038\n",
            "Epoch 187/200\n",
            "5/5 [==============================] - 0s 11ms/step - loss: 0.1174 - acc: 0.9487 - val_loss: 0.2386 - val_acc: 0.8846\n",
            "Epoch 188/200\n",
            "5/5 [==============================] - 0s 15ms/step - loss: 0.1027 - acc: 0.9744 - val_loss: 0.3203 - val_acc: 0.9038\n",
            "Epoch 189/200\n",
            "5/5 [==============================] - 0s 17ms/step - loss: 0.1285 - acc: 0.9551 - val_loss: 0.1572 - val_acc: 0.9038\n",
            "Epoch 190/200\n",
            "5/5 [==============================] - 0s 12ms/step - loss: 0.0938 - acc: 0.9744 - val_loss: 0.2261 - val_acc: 0.9231\n",
            "Epoch 191/200\n",
            "5/5 [==============================] - 0s 16ms/step - loss: 0.0907 - acc: 0.9679 - val_loss: 0.3054 - val_acc: 0.8846\n",
            "Epoch 192/200\n",
            "5/5 [==============================] - 0s 13ms/step - loss: 0.0955 - acc: 0.9679 - val_loss: 0.2361 - val_acc: 0.8654\n",
            "Epoch 193/200\n",
            "5/5 [==============================] - 0s 12ms/step - loss: 0.1188 - acc: 0.9423 - val_loss: 0.4186 - val_acc: 0.8846\n",
            "Epoch 194/200\n",
            "5/5 [==============================] - 0s 11ms/step - loss: 0.1339 - acc: 0.9423 - val_loss: 0.2033 - val_acc: 0.9038\n",
            "Epoch 195/200\n",
            "5/5 [==============================] - 0s 16ms/step - loss: 0.2036 - acc: 0.9231 - val_loss: 0.2812 - val_acc: 0.9038\n",
            "Epoch 196/200\n",
            "5/5 [==============================] - 0s 15ms/step - loss: 0.1375 - acc: 0.9615 - val_loss: 0.2624 - val_acc: 0.9038\n",
            "Epoch 197/200\n",
            "5/5 [==============================] - 0s 12ms/step - loss: 0.1462 - acc: 0.9359 - val_loss: 0.3340 - val_acc: 0.8846\n",
            "Epoch 198/200\n",
            "5/5 [==============================] - 0s 12ms/step - loss: 0.1506 - acc: 0.9423 - val_loss: 0.4085 - val_acc: 0.8269\n",
            "Epoch 199/200\n",
            "5/5 [==============================] - 0s 12ms/step - loss: 0.1011 - acc: 0.9615 - val_loss: 0.2647 - val_acc: 0.8846\n",
            "Epoch 200/200\n",
            "5/5 [==============================] - 0s 16ms/step - loss: 0.1161 - acc: 0.9551 - val_loss: 0.3359 - val_acc: 0.8846\n"
          ]
        }
      ]
    },
    {
      "cell_type": "code",
      "metadata": {
        "colab": {
          "base_uri": "https://localhost:8080/",
          "height": 887
        },
        "id": "qJnFOLndpoN9",
        "outputId": "aefbf671-9704-4be2-868e-9b836820c47b"
      },
      "source": [
        "### Plot training and validation accuracy and loss over time\n",
        "\n",
        "# Extract accuracy and loss values (in list form) from the history\n",
        "acc = history.history['acc']\n",
        "val_acc = history.history['val_acc']\n",
        "loss = history.history['loss']\n",
        "val_loss = history.history['val_loss']\n",
        "\n",
        "# Create a list of epoch numbers\n",
        "epochs = range(1, len(acc) + 1)\n",
        "\n",
        "# Plot training and validation loss values over time\n",
        "plt.figure()\n",
        "plt.plot(epochs, loss, color='blue', marker='.', label='Training loss')\n",
        "plt.plot(epochs, val_loss, color='orange', marker='.', label='Validation loss')\n",
        "plt.title('Training and validation loss')\n",
        "plt.legend()\n",
        "\n",
        "# Plot training and validation accuracies over time\n",
        "plt.figure()\n",
        "plt.plot(epochs, acc, color='blue', marker='.', label='Training acc')\n",
        "plt.plot(epochs, val_acc, color='orange', marker='.', label='Validation acc')\n",
        "plt.title('Training and validation accuracy')\n",
        "plt.legend()\n",
        "plt.show()"
      ],
      "execution_count": 72,
      "outputs": [
        {
          "output_type": "display_data",
          "data": {
            "text/plain": [
              "<Figure size 640x480 with 1 Axes>"
            ],
            "image/png": "[encoded data removed]"
          },
          "metadata": {}
        },
        {
          "output_type": "display_data",
          "data": {
            "text/plain": [
              "<Figure size 640x480 with 1 Axes>"
            ],
            "image/png": "[encoded data removed]"
          },
          "metadata": {}
        }
      ]
    },
    {
      "cell_type": "code",
      "metadata": {
        "colab": {
          "base_uri": "https://localhost:8080/"
        },
        "id": "kgmX9gfJpq-L",
        "outputId": "5bd1a8f4-0710-476a-c23a-ffcffeffdb4c"
      },
      "source": [
        "### Try predicting label with one validation sample (inference)\n",
        "\n",
        "# Change this to try a different sample from the test set\n",
        "idx = 0\n",
        "\n",
        "# Make sample 2D array instead of 1D vector (this is what the Keras model expects as input)\n",
        "x = np.expand_dims(X_val[idx], 0)\n",
        "\n",
        "# Make prediction using trained model\n",
        "y_pred = model.predict(x)\n",
        "\n",
        "# Find index of highest score in output\n",
        "predicted_label = np.argmax(y_pred)\n",
        "actual_label = np.argmax(Y_val[idx])\n",
        "\n",
        "# Display model output, predicted label, actual label\n",
        "print(\"Model output:\", y_pred)\n",
        "print(\"Predicted label:\", predicted_label, \"-\", labels[predicted_label])\n",
        "print(\"Actual label:\", actual_label, \"-\", labels[actual_label])"
      ],
      "execution_count": 73,
      "outputs": [
        {
          "output_type": "stream",
          "name": "stdout",
          "text": [
            "1/1 [==============================] - 0s 63ms/step\n",
            "Model output: [[2.2598739e-13 2.6370615e-05 6.8991617e-09 9.9997365e-01 2.9560526e-08]]\n",
            "Predicted label: 3 - led\n",
            "Actual label: 3 - led\n"
          ]
        }
      ]
    },
    {
      "cell_type": "code",
      "metadata": {
        "colab": {
          "base_uri": "https://localhost:8080/"
        },
        "id": "0Lo3KWpjptJk",
        "outputId": "f56a0ca3-6a79-4f6a-803e-6d20b9d5578e"
      },
      "source": [
        "### Create confusion matrix from validation set\n",
        "\n",
        "# Find predictions from all validation samples\n",
        "Y_pred = model.predict(X_val)\n",
        "print(\"Validation output shape:\", Y_pred.shape)\n",
        "\n",
        "# Convert actual and predicted validation one-hot encoding to numerical labels\n",
        "y_val = np.argmax(Y_val, axis=1)\n",
        "y_pred = np.argmax(Y_pred, axis=1)\n",
        "\n",
        "# Print some values from actual and predicted validation sets (first 50 samples)\n",
        "print(\"Actual validation labels:\\t\", y_val[:50])\n",
        "print(\"Predicted validation labels:\\t\", y_pred[:50])\n",
        "\n",
        "# Compute confusion matrix (note: we need to transpose SKLearn matrix to make it match Edge Impulse)\n",
        "cm = confusion_matrix(y_val, y_pred)\n",
        "cm = np.transpose(cm)\n",
        "\n",
        "# Print confusion matrix\n",
        "print()\n",
        "print(\" ---> Predicted labels\")\n",
        "print(\"|\")\n",
        "print(\"v Actual labels\")\n",
        "print(\"\\t\\t\\t\" + ' '.join(\"{!s:6}\".format('(' + str(i) + ')') for i in range(num_classes)))\n",
        "for row in range(num_classes):\n",
        "  print(\"{:>12} ({}):  [{}]\".format(labels[row], row, ' '.join(\"{:6}\".format(i) for i in cm[row])))"
      ],
      "execution_count": 74,
      "outputs": [
        {
          "output_type": "stream",
          "name": "stdout",
          "text": [
            "2/2 [==============================] - 0s 6ms/step\n",
            "Validation output shape: (52, 5)\n",
            "Actual validation labels:\t [3 2 4 1 0 3 0 2 2 1 4 4 4 1 2 0 1 0 1 2 1 3 0 3 2 3 4 1 2 3 4 0 4 1 2 1 0\n",
            " 0 4 1 0 1 3 2 0 1 2 3 4 4]\n",
            "Predicted validation labels:\t [3 2 2 1 0 3 0 2 2 2 2 4 4 2 2 0 1 0 1 2 1 3 0 3 2 3 4 1 2 3 4 0 4 1 2 1 0\n",
            " 0 1 1 0 4 3 2 0 1 2 3 4 4]\n",
            "\n",
            " ---> Predicted labels\n",
            "|\n",
            "v Actual labels\n",
            "\t\t\t(0)    (1)    (2)    (3)    (4)   \n",
            "  background (0):  [    10      0      0      0      0]\n",
            "   capacitor (1):  [     0     10      0      0      1]\n",
            "       diode (2):  [     0      2     10      0      2]\n",
            "         led (3):  [     0      0      0      9      0]\n",
            "    resistor (4):  [     0      1      0      0      7]\n"
          ]
        }
      ]
    },
    {
      "cell_type": "code",
      "source": [
        "import numpy as np\n",
        "import matplotlib.pyplot as plt\n",
        "import seaborn as sns\n",
        "from sklearn.metrics import confusion_matrix\n",
        "\n",
        "# Assuming 'labels' is a list of class labels\n",
        "labels = [\"background\", \"capacitor\", \"diode\", \"led\", \"resistor\"]  # replace with your class labels\n",
        "\n",
        "# Replace Y_val and Y_pred with your actual and predicted validation sets\n",
        "# Ensure Y_val and Y_pred are one-hot encoded\n",
        "# Assuming Y_val is a one-hot encoded matrix\n",
        "Y_val = utils.to_categorical(y_val, num_classes)\n",
        "# Y_val = np.array([[1, 0, 0, 0, 0], [0, 1, 0, 0, 0], [0, 0, 1, 0, 0], [0, 0, 0, 1, 0], [0, 0, 0, 0, 1]])  # replace with your data\n",
        "Y_pred = model.predict(X_val)\n",
        "\n",
        "# Convert actual and predicted validation one-hot encoding to numerical labels\n",
        "y_val = np.argmax(Y_val, axis=1)\n",
        "y_pred = np.argmax(Y_pred, axis=1)\n",
        "\n",
        "\n",
        "# Print lengths of y_val and y_pred\n",
        "print(\"Length of y_val:\", len(y_val))\n",
        "print(\"Length of y_pred:\", len(y_pred))\n",
        "\n",
        "\n",
        "print(\"Shape of X_val:\", X_val.shape)\n",
        "print(\"Shape of Y_val:\", Y_val.shape)\n",
        "print(\"Shape of Y_pred:\", Y_pred.shape)\n",
        "\n",
        "\n",
        "# Ensure y_val and y_pred have the same length\n",
        "assert len(y_val) == len(y_pred), \"Lengths of y_val and y_pred are inconsistent\"\n",
        "\n",
        "# Compute confusion matrix\n",
        "cm = confusion_matrix(y_val, y_pred)\n",
        "\n",
        "\n",
        "\n",
        "\n",
        "# Compute confusion matrix\n",
        "cm = confusion_matrix(y_val, y_pred)\n",
        "\n",
        "# Normalize confusion matrix to get percentages\n",
        "cm_percentage = cm.astype('float') / cm.sum(axis=1)[:, np.newaxis]\n",
        "\n",
        "# Set up the matplotlib figure\n",
        "plt.figure(figsize=(10, 8))\n",
        "\n",
        "# Create a heatmap using seaborn\n",
        "sns.set(font_scale=1.2)  # adjust font size\n",
        "sns.heatmap(cm_percentage, annot=True, fmt=\".2f\", cmap=\"Blues\", xticklabels=labels, yticklabels=labels)\n",
        "\n",
        "# Add labels and title\n",
        "plt.xlabel(\"Predicted Labels\")\n",
        "plt.ylabel(\"Actual Labels\")\n",
        "plt.title(\"Confusion Matrix\")\n",
        "\n",
        "# Show the plot\n",
        "plt.show()\n",
        "\n"
      ],
      "metadata": {
        "colab": {
          "base_uri": "https://localhost:8080/",
          "height": 836
        },
        "id": "mLyxoS6Ka7qs",
        "outputId": "059dc0a1-62da-4d36-e557-e0ca05c79637"
      },
      "execution_count": 77,
      "outputs": [
        {
          "output_type": "stream",
          "name": "stdout",
          "text": [
            "2/2 [==============================] - 0s 7ms/step\n",
            "Length of y_val: 52\n",
            "Length of y_pred: 52\n",
            "Shape of X_val: (52, 784)\n",
            "Shape of Y_val: (52, 5)\n",
            "Shape of Y_pred: (52, 5)\n"
          ]
        },
        {
          "output_type": "display_data",
          "data": {
            "text/plain": [
              "<Figure size 1000x800 with 2 Axes>"
            ],
            "image/png": "[encoded data removed]"
          },
          "metadata": {}
        }
      ]
    },
    {
      "cell_type": "code",
      "metadata": {
        "colab": {
          "base_uri": "https://localhost:8080/"
        },
        "id": "hgZXa_y2qorZ",
        "outputId": "3b576cb8-91c0-49b4-a9d3-b856370fab07"
      },
      "source": [
        "### Evaluate model on validation set\n",
        "score = model.evaluate(X_val, Y_val)\n",
        "print(\"Validation loss:\", score[0])\n",
        "print(\"Validation accuracy:\", score[1])"
      ],
      "execution_count": 75,
      "outputs": [
        {
          "output_type": "stream",
          "name": "stdout",
          "text": [
            "2/2 [==============================] - 0s 10ms/step - loss: 0.3359 - acc: 0.8846\n",
            "Validation loss: 0.33592650294303894\n",
            "Validation accuracy: 0.8846153616905212\n"
          ]
        }
      ]
    },
    {
      "cell_type": "code",
      "metadata": {
        "colab": {
          "base_uri": "https://localhost:8080/"
        },
        "id": "m2lvFg0RVxFr",
        "outputId": "537813ed-5337-47cd-96f5-a7689ea99202"
      },
      "source": [
        "### Evaluate model on entire test set\n",
        "score = model.evaluate(X_test, Y_test)\n",
        "print(\"Test loss:\", score[0])\n",
        "print(\"Test accuracy:\", score[1])"
      ],
      "execution_count": 76,
      "outputs": [
        {
          "output_type": "stream",
          "name": "stdout",
          "text": [
            "2/2 [==============================] - 0s 7ms/step - loss: 0.2496 - acc: 0.9038\n",
            "Test loss: 0.2495708465576172\n",
            "Test accuracy: 0.9038461446762085\n"
          ]
        }
      ]
    },
    {
      "cell_type": "code",
      "source": [
        "from sklearn.metrics import precision_score, recall_score, f1_score, accuracy_score\n",
        "\n",
        "# Precision\n",
        "precision = precision_score(y_val, y_pred, average='weighted')\n",
        "\n",
        "# Recall\n",
        "recall = recall_score(y_val, y_pred, average='weighted')\n",
        "\n",
        "# F1 Score\n",
        "f1 = f1_score(y_val, y_pred, average='weighted')\n",
        "\n",
        "# Accuracy\n",
        "accuracy = accuracy_score(y_val, y_pred)\n",
        "\n",
        "# Print the metrics\n",
        "print(\"Precision: {:.4f}\".format(precision))\n",
        "print(\"Recall: {:.4f}\".format(recall))\n",
        "print(\"F1 Score: {:.4f}\".format(f1))\n",
        "print(\"Accuracy: {:.4f}\".format(accuracy))\n"
      ],
      "metadata": {
        "colab": {
          "base_uri": "https://localhost:8080/"
        },
        "id": "kZN-Ybrel0a5",
        "outputId": "dc6cb6c9-4c56-4731-b982-b5304b4f7750"
      },
      "execution_count": 78,
      "outputs": [
        {
          "output_type": "stream",
          "name": "stdout",
          "text": [
            "Precision: 0.8983\n",
            "Recall: 0.8846\n",
            "F1 Score: 0.8835\n",
            "Accuracy: 0.8846\n"
          ]
        }
      ]
    },
    {
      "cell_type": "code",
      "source": [
        "# Given metrics\n",
        "precision = 0.8983\n",
        "recall = 0.8846\n",
        "f1_score = 0.8835\n",
        "accuracy = 0.8846\n",
        "\n",
        "# Convert to percentages\n",
        "precision_percentage = precision * 100\n",
        "recall_percentage = recall * 100\n",
        "f1_score_percentage = f1_score * 100\n",
        "accuracy_percentage = accuracy * 100\n",
        "\n",
        "# Print the results\n",
        "print(f\"Precision: {precision_percentage:.2f}%\")\n",
        "print(f\"Recall: {recall_percentage:.2f}%\")\n",
        "print(f\"F1 Score: {f1_score_percentage:.2f}%\")\n",
        "print(f\"Accuracy: {accuracy_percentage:.2f}%\")\n",
        "\n",
        "# Explanation\n",
        "print(\"\\nExplanation:\")\n",
        "print(f\"Precision: Out of all instances predicted as positive, {precision_percentage:.2f}% are correct.\")\n",
        "print(f\"Recall: The model identifies approximately {recall_percentage:.2f}% of all actual positive instances.\")\n",
        "print(f\"F1 Score: A balanced measure (harmonic mean) of precision and recall, indicating {f1_score_percentage:.2f}% overall performance.\")\n",
        "print(f\"Accuracy: Overall correctness of the model across all classes, {accuracy_percentage:.2f}%.\")\n"
      ],
      "metadata": {
        "colab": {
          "base_uri": "https://localhost:8080/"
        },
        "id": "kvUqYGflmPfJ",
        "outputId": "f832bb42-76fd-49e4-e786-a960a6b55167"
      },
      "execution_count": 79,
      "outputs": [
        {
          "output_type": "stream",
          "name": "stdout",
          "text": [
            "Precision: 89.83%\n",
            "Recall: 88.46%\n",
            "F1 Score: 88.35%\n",
            "Accuracy: 88.46%\n",
            "\n",
            "Explanation:\n",
            "Precision: Out of all instances predicted as positive, 89.83% are correct.\n",
            "Recall: The model identifies approximately 88.46% of all actual positive instances.\n",
            "F1 Score: A balanced measure (harmonic mean) of precision and recall, indicating 88.35% overall performance.\n",
            "Accuracy: Overall correctness of the model across all classes, 88.46%.\n"
          ]
        }
      ]
    }
  ]
}